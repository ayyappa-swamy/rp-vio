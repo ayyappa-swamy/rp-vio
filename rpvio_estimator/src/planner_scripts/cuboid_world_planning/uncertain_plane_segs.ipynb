{
 "cells": [
  {
   "cell_type": "code",
   "execution_count": 1,
   "metadata": {},
   "outputs": [],
   "source": [
    "import numpy as np\n",
    "import open3d as o3d\n",
    "from scipy.spatial.transform import Rotation\n",
    "N = 100"
   ]
  },
  {
   "cell_type": "code",
   "execution_count": 2,
   "metadata": {},
   "outputs": [],
   "source": [
    "# Sample 50 points in x-z plane in range (5, 3)\n",
    "x_samples = np.random.uniform(low=0, high=5, size=(N, 1))\n",
    "z_samples = np.random.uniform(low=0, high=3, size=(N, 1))\n",
    "y_samples = np.zeros((N, 1))\n",
    "gt_points = np.hstack((x_samples, y_samples, z_samples))\n",
    "\n",
    "# Visualize the sampled points\n",
    "pcd = o3d.geometry.PointCloud()\n",
    "pcd.points = o3d.utility.Vector3dVector(gt_points)\n",
    "pcd.paint_uniform_color(np.array([[0, 1, 0]]).T)\n",
    "\n",
    "# Visualize the mean x-z plane segment\n",
    "gt_plane = o3d.geometry.TriangleMesh.create_box(width=5.5, height=0.01, depth=3.5)\n",
    "gt_plane.paint_uniform_color(np.array([[0, 1, 0]]).T)\n",
    "coord_frame = o3d.geometry.TriangleMesh.create_coordinate_frame()\n",
    "o3d.visualization.draw_geometries([pcd, gt_plane, coord_frame])"
   ]
  },
  {
   "cell_type": "code",
   "execution_count": 5,
   "metadata": {},
   "outputs": [
    {
     "name": "stdout",
     "output_type": "stream",
     "text": [
      "[-0.0040578   0.9999116  -0.01266224  0.02580028]\n",
      "[ 0.0016647   0.99995806  0.00900613 -0.0320389 ]\n",
      "[ 0.00990136  0.99987124 -0.01262801 -0.0080474 ]\n",
      "[-0.01360373  0.99989903  0.00410792  0.02411105]\n",
      "[ 0.00279973  0.99996675  0.0076592  -0.01271059]\n"
     ]
    },
    {
     "name": "stderr",
     "output_type": "stream",
     "text": [
      "/home/tvvsstas/miniconda3/lib/python3.7/site-packages/ipykernel_launcher.py:28: UserWarning: Optimal rotation is not uniquely or poorly defined for the given sets of vectors.\n"
     ]
    }
   ],
   "source": [
    "noisy_planes = []\n",
    "\n",
    "for i in range(5):\n",
    "    # Add gaussian noise to the points in y_direction\n",
    "    y_noise = np.random.normal(0, 0.1, size=(N, 1))\n",
    "    x_noise = np.random.random((N, 1)) - 0.5\n",
    "#     y_noise = np.random.random((N, 1)) - 0.5\n",
    "    z_noise = np.random.random((N, 1)) - 0.5\n",
    "    noisy_points = np.hstack((x_samples, y_samples+y_noise, z_samples))\n",
    "\n",
    "    # Visualize the sampled points\n",
    "    noisy_pcd = o3d.geometry.PointCloud()\n",
    "    noisy_pcd.points = o3d.utility.Vector3dVector(noisy_points)\n",
    "    noisy_pcd.paint_uniform_color(np.array([[1, 0, 0]]).T)\n",
    "    obox = noisy_pcd.get_oriented_bounding_box()\n",
    "    abox = noisy_pcd.get_axis_aligned_bounding_box()\n",
    "#     noisy_planes.append(obox)\n",
    "#     o3d.visualization.draw_geometries([noisy_pcd, obox, pcd, coord_frame])\n",
    "\n",
    "    plane_params, some_list = noisy_pcd.segment_plane(1.0, int(N), 5)\n",
    "    plane_params = plane_params/np.linalg.norm(plane_params[:3])\n",
    "    print(plane_params)\n",
    "\n",
    "    \"\"\" Draw mean plane of noisy point cloud \"\"\"\n",
    "    gt_normal = np.array([[0, 1, 0]])\n",
    "    noisy_normal = plane_params[:3].reshape((1, 3))\n",
    "    # Find the relative rotation between normals\n",
    "    R, error = Rotation.align_vectors(gt_normal, noisy_normal)\n",
    "    R.as_matrix(), error\n",
    "\n",
    "    # Find the nearest point on the plane to origin\n",
    "    l = -plane_params[-1]\n",
    "    noisy_origin = (l*plane_params[:3]).reshape((3, 1))\n",
    "    # noisy_origin\n",
    "\n",
    "    # Compute the relative transformation w.r.t ground truth plane segment\n",
    "    noisy_plane = o3d.geometry.TriangleMesh.create_box(width=5, height=0.01, depth=3)\n",
    "    noisy_plane.paint_uniform_color(np.array([[0, 0, 1]]).T)\n",
    "#     noisy_plane.translate(-R.as_matrix().T@noisy_origin)\n",
    "#     obox.translate(-R.as_matrix().T@noisy_origin)\n",
    "#     obox.rotate(R.as_matrix().T)\n",
    "    noisy_planes.append(abox)\n",
    "\n",
    "# Create a plane segment box and transform to estimated segment\n",
    "o3d.visualization.draw_geometries([pcd, gt_plane, coord_frame] + noisy_planes)"
   ]
  },
  {
   "cell_type": "code",
   "execution_count": 6,
   "metadata": {},
   "outputs": [],
   "source": [
    "# Create a test point cloud\n",
    "x = np.arange(0, 1, 0.05)\n",
    "y = np.arange(0, 2, 0.05)\n",
    "z = np.arange(0, 3, 0.05)\n",
    "\n",
    "xs, ys, zs = np.meshgrid(x, y, z)\n",
    "pts = np.vstack((xs.flatten(), ys.flatten(), zs.flatten())).T\n",
    "pts_ = np.hstack((pts, np.ones((pts.shape[0], 1))))\n",
    "\n",
    "R = np.array([[0, 1, 0], [0, 0, -1], [-1, 0, 0]]) # is inverse rotation\n",
    "t = np.array([[-1, -2, -3]]).T\n",
    "w2c = np.hstack((R, t))\n",
    "w2c = np.vstack((w2c, np.array([[0, 0, 0, 1]]))) # transforms from w to c\n",
    "\n",
    "tp = o3d.geometry.PointCloud()\n",
    "# tp.points = o3d.utility.Vector3dVector((R.T@pts.T-R.T@t).T)\n",
    "tp.points = o3d.utility.Vector3dVector(((R@(pts.T+t)).T)/5.0)\n",
    "# tp.points = o3d.utility.Vector3dVector(pts)\n",
    "coord_frame = o3d.geometry.TriangleMesh.create_coordinate_frame()\n",
    "o3d.visualization.draw_geometries([tp, coord_frame])"
   ]
  }
 ],
 "metadata": {
  "kernelspec": {
   "display_name": "Python 3",
   "language": "python",
   "name": "python3"
  },
  "language_info": {
   "codemirror_mode": {
    "name": "ipython",
    "version": 3
   },
   "file_extension": ".py",
   "mimetype": "text/x-python",
   "name": "python",
   "nbconvert_exporter": "python",
   "pygments_lexer": "ipython3",
   "version": "3.7.4"
  }
 },
 "nbformat": 4,
 "nbformat_minor": 4
}
